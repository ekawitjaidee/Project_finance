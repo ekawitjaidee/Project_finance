{
 "cells": [
  {
   "cell_type": "code",
   "execution_count": 50,
   "metadata": {},
   "outputs": [],
   "source": [
    "import numpy as np\n",
    "import pandas as pd\n",
    "import pandas_datareader.data as web\n",
    "import finplot as fplt\n",
    "import matplotlib.pyplot as plt\n",
    "import datetime\n",
    "\n",
    "from ta.trend import ADXIndicator"
   ]
  },
  {
   "cell_type": "code",
   "execution_count": 36,
   "metadata": {},
   "outputs": [],
   "source": [
    "start = datetime.datetime(2010,1,1)\n",
    "end = datetime.datetime(2011,1,1)"
   ]
  },
  {
   "cell_type": "code",
   "execution_count": 37,
   "metadata": {},
   "outputs": [],
   "source": [
    "df = web.DataReader('AAPL','yahoo',start,end)"
   ]
  },
  {
   "cell_type": "code",
   "execution_count": 106,
   "metadata": {},
   "outputs": [],
   "source": [
    "#4 indicator MACD, RSI, Stochastic, Adx\n",
    "#MACD\n",
    "df['EWMA-5'] = df['Close'].ewm(span=5).mean()\n",
    "df['EWMA-12'] = df['Close'].ewm(span=12).mean()\n",
    "df['EWMA-26'] = df['Close'].ewm(span=26).mean()\n",
    "df['MACD'] = df['EWMA-12'] - df['EWMA-26']\n",
    "df['SIGNAL LINE'] = df['MACD'].ewm(span=9).mean() \n",
    "\n",
    "#RSI\n",
    "def computeRSI (data, time_window):\n",
    "    diff = data.diff(1).dropna()        \n",
    "    up_chg = 0 * diff\n",
    "    down_chg = 0 * diff\n",
    "    up_chg[diff > 0] = diff[ diff>0 ]\n",
    "    down_chg[diff < 0] = diff[ diff < 0 ]\n",
    "    up_chg_avg   = up_chg.ewm(com=time_window-1 , min_periods=time_window).mean()\n",
    "    down_chg_avg = down_chg.ewm(com=time_window-1 , min_periods=time_window).mean()\n",
    "    rs = abs(up_chg_avg/down_chg_avg)\n",
    "    rsi = 100 - 100/(1+rs)\n",
    "    return rsi\n",
    "df['RSI-7'] = computeRSI(df['Close'],7)\n",
    "df['RSI-14'] = computeRSI(df['Close'], 14)\n",
    "\n",
    "#DMI\n",
    "adxi = ADXIndicator(df['High'],df['Low'],df['Close'],14,False)\n",
    "df['+DI'] = adxi.adx_pos()\n",
    "df['-DI'] = adxi.adx_neg()\n",
    "df['adx'] = adxi.adx()\n",
    "\n",
    "#STOCHASTIC Slow-fast\n",
    "# Fast Stochastic\n",
    "low_min  = df['Low'].rolling( window = 9 ).min()\n",
    "high_max = df['High'].rolling( window = 9 ).max()\n",
    "df['%K'] = (100*(df['Close']-low_min)/(high_max-low_min))\n",
    "df['%D']=df['%K'].ewm(span=5).mean() \n",
    "\n",
    "#SLOW stochastic\n",
    "df['%Ks'] = df['%D']\n",
    "df['%Ds']=df['%Ks'].ewm(span=5).mean() \n",
    "\n",
    "df['70'] = 70\n",
    "df['30'] = 30\n",
    "df['80'] = 80\n",
    "df['20'] = 20\n"
   ]
  },
  {
   "cell_type": "code",
   "execution_count": 100,
   "metadata": {},
   "outputs": [],
   "source": [
    "symbol = 'USDT-BTC'\n",
    "ax,ax2,ax3,ax4 = fplt.create_plot(symbol, rows=4)\n",
    "\n",
    "#plot1 main\n",
    "fplt.candlestick_ochl(df[['Open','Close','High','Low']],ax=ax)\n",
    "\n",
    "#MACD\n",
    "fplt.plot(df['MACD'],ax=ax2,legend='MACD')\n",
    "fplt.plot(df['SIGNAL LINE'],ax=ax2,legend='SIGNAL LINE')\n",
    "\n",
    "#RSI\n",
    "fplt.plot(df['RSI-7'],ax=ax3,legend='RSI-7')\n",
    "y1 = fplt.plot(df['70'], ax=ax3,color='r')\n",
    "y2 = fplt.plot(df['30'], ax=ax3,color='r')\n",
    "fplt.fill_between(y1, y2, color='#bbb')\n",
    "\n",
    "#DMI\n",
    "fplt.plot(df['+DI'],ax=ax4,legend='+DI')\n",
    "fplt.plot(df['-DI'],ax=ax4,legend='-DI')\n",
    "\n",
    "fplt.show()"
   ]
  },
  {
   "cell_type": "code",
   "execution_count": 109,
   "metadata": {},
   "outputs": [],
   "source": [
    "ax,ax2,ax3 = fplt.create_plot(symbol, rows=3)\n",
    "\n",
    "#plot1 main\n",
    "fplt.candlestick_ochl(df[['Open','Close','High','Low']],ax=ax)\n",
    "\n",
    "#fast stochastic\n",
    "fplt.plot(df['%K'],ax=ax2,legend='%K')\n",
    "fplt.plot(df['%D'],ax=ax2,legend='%D')\n",
    "y1 = fplt.plot(df['80'], ax=ax2,color='r')\n",
    "y2 = fplt.plot(df['20'], ax=ax2,color='r')\n",
    "fplt.fill_between(y1, y2, color='#00ffff')\n",
    "\n",
    "#slow stochastic\n",
    "fplt.plot(df['%Ks'],ax=ax3,legend='%Ks')\n",
    "fplt.plot(df['%Ds'],ax=ax3,legend='%Ds')\n",
    "y1 = fplt.plot(df['80'], ax=ax3,color='r')\n",
    "y2 = fplt.plot(df['20'], ax=ax3,color='r')\n",
    "fplt.fill_between(y1, y2, color='#bbb')\n",
    "fplt.show()"
   ]
  },
  {
   "cell_type": "code",
   "execution_count": null,
   "metadata": {},
   "outputs": [],
   "source": []
  }
 ],
 "metadata": {
  "kernelspec": {
   "display_name": "Python 3",
   "language": "python",
   "name": "python3"
  },
  "language_info": {
   "codemirror_mode": {
    "name": "ipython",
    "version": 3
   },
   "file_extension": ".py",
   "mimetype": "text/x-python",
   "name": "python",
   "nbconvert_exporter": "python",
   "pygments_lexer": "ipython3",
   "version": "3.7.7"
  }
 },
 "nbformat": 4,
 "nbformat_minor": 4
}
