{
 "cells": [
  {
   "cell_type": "code",
   "execution_count": 14,
   "metadata": {},
   "outputs": [],
   "source": [
    "import pandas as pd\n",
    "import matplotlib.pyplot as plt\n",
    "import pandas_datareader.data as web\n",
    "import datetime\n",
    "import finplot as fplt\n",
    "\n",
    "from ta.trend import ADXIndicator\n",
    "from ta.trend import IchimokuIndicator"
   ]
  },
  {
   "cell_type": "code",
   "execution_count": 21,
   "metadata": {},
   "outputs": [],
   "source": [
    "start = datetime.datetime(2009,12,4)#26 day before start year for make indicator\n",
    "end = datetime.datetime(2011,1,1)\n",
    "st=start.strftime(\"%Y\")\n",
    "ed=end.strftime(\"%Y\")"
   ]
  },
  {
   "cell_type": "code",
   "execution_count": 22,
   "metadata": {},
   "outputs": [],
   "source": [
    "stock = 'KO'\n",
    "df = web.DataReader(stock,'yahoo',start,end)\n",
    "# df = df.drop(['Open','High','Low','Volume','Adj Close'],axis=1)\n",
    "# pd.set_option('display.max_columns', None)"
   ]
  },
  {
   "cell_type": "code",
   "execution_count": 23,
   "metadata": {},
   "outputs": [],
   "source": [
    "df.to_csv('Ground Truth file/'+stock+'('+str(int(st)+1)+','+ed+')'+'.csv')"
   ]
  },
  {
   "cell_type": "code",
   "execution_count": 24,
   "metadata": {},
   "outputs": [
    {
     "name": "stderr",
     "output_type": "stream",
     "text": [
      "C:\\Users\\jame_\\anaconda3\\lib\\site-packages\\ta\\trend.py:608: RuntimeWarning: invalid value encountered in double_scalars\n",
      "  dip[i] = 100 * (self._dip[i]/self._trs[i])\n",
      "C:\\Users\\jame_\\anaconda3\\lib\\site-packages\\ta\\trend.py:612: RuntimeWarning: invalid value encountered in double_scalars\n",
      "  din[i] = 100 * (self._din[i]/self._trs[i])\n"
     ]
    }
   ],
   "source": [
    "#4 indicator MACD, RSI, Stochastic, Adx\n",
    "#MACD\n",
    "df['EWMA-5'] = df['Close'].ewm(span=5).mean()\n",
    "df['EWMA-12'] = df['Close'].ewm(span=12).mean()\n",
    "df['EWMA-26'] = df['Close'].ewm(span=26).mean()\n",
    "df['MACD'] = df['EWMA-12'] - df['EWMA-26']\n",
    "df['SIGNAL LINE'] = df['MACD'].ewm(span=9).mean() \n",
    "\n",
    "#RSI\n",
    "def computeRSI (data, time_window):\n",
    "    diff = data.diff(1).dropna()        \n",
    "    up_chg = 0 * diff\n",
    "    down_chg = 0 * diff\n",
    "    up_chg[diff > 0] = diff[ diff>0 ]\n",
    "    down_chg[diff < 0] = diff[ diff < 0 ]\n",
    "    up_chg_avg   = up_chg.ewm(com=time_window-1 , min_periods=time_window).mean()\n",
    "    down_chg_avg = down_chg.ewm(com=time_window-1 , min_periods=time_window).mean()\n",
    "    rs = abs(up_chg_avg/down_chg_avg)\n",
    "    rsi = 100 - 100/(1+rs)\n",
    "    return rsi\n",
    "df['RSI-7'] = computeRSI(df['Close'],12)\n",
    "df['RSI-14'] = computeRSI(df['Close'], 26)\n",
    "\n",
    "#DMI\n",
    "adxi = ADXIndicator(df['High'],df['Low'],df['Close'],14,False)\n",
    "df['+DI'] = adxi.adx_pos()\n",
    "df['-DI'] = adxi.adx_neg()\n",
    "df['adx'] = adxi.adx()\n",
    "\n",
    "#STOCHASTIC Slow-fast\n",
    "# Fast Stochastic\n",
    "low_min  = df['Low'].rolling( window = 9 ).min()\n",
    "high_max = df['High'].rolling( window = 9 ).max()\n",
    "df['%K'] = (100*(df['Close']-low_min)/(high_max-low_min))\n",
    "df['%D']=df['%K'].ewm(span=5).mean() \n",
    "\n",
    "#SLOW stochastic\n",
    "df['%Ks'] = df['%D']\n",
    "df['%Ds']=df['%Ks'].ewm(span=5).mean() \n",
    "\n",
    "#Ichimoku\n",
    "ichi = IchimokuIndicator(df['High'],df['Low'],n1=9,n2=26,n3=52,visual=True,fillna=True)\n",
    "df['ichi_a'] = ichi.ichimoku_a()\n",
    "df['ichi_b'] = ichi.ichimoku_b()\n",
    "df['ichi_base'] = ichi.ichimoku_base_line()\n",
    "df['ichi_con']=ichi.ichimoku_conversion_line()\n",
    "\n",
    "df['70'] = 70\n",
    "df['30'] = 30\n",
    "df['80'] = 80\n",
    "df['20'] = 20"
   ]
  },
  {
   "cell_type": "code",
   "execution_count": null,
   "metadata": {},
   "outputs": [],
   "source": [
    "symbol = stock\n",
    "ax,ax2,ax3,ax4 = fplt.create_plot(symbol, rows=4)\n",
    "\n",
    "#plot1 main\n",
    "fplt.candlestick_ochl(df[['Open','Close','High','Low']],ax=ax)\n",
    "\n",
    "fplt.candlestick_ochl(df[['Open','Close','High','Low']],ax=ax)\n",
    "p0=fplt.plot(df['ichi_a'],ax=ax,legend='ichi_a')\n",
    "p1=fplt.plot(df['ichi_b'],ax=ax,legend='ichi_b')\n",
    "# fplt.plot(df['ichi_base'],ax=ax,legend='base')\n",
    "# fplt.plot(df['ichi_con'],ax=ax,legend='convo')\n",
    "fplt.fill_between( p0, p1, color='#bbb')\n",
    "\n",
    "#MACD\n",
    "fplt.plot(df['MACD'],ax=ax2,legend='MACD')\n",
    "fplt.plot(df['SIGNAL LINE'],ax=ax2,legend='SIGNAL LINE')\n",
    "\n",
    "#RSI\n",
    "fplt.plot(df['RSI-7'],ax=ax3,legend='RSI-7')\n",
    "fplt.plot(df['RSI-14'],ax=ax3,legend='RSI-14')\n",
    "y1 = fplt.plot(df['70'], ax=ax3,color='r')\n",
    "y2 = fplt.plot(df['30'], ax=ax3,color='r')\n",
    "fplt.fill_between(y1, y2, color='#bbb')\n",
    "\n",
    "#DMI\n",
    "fplt.plot(df['+DI'],ax=ax4,legend='+DI')\n",
    "fplt.plot(df['-DI'],ax=ax4,legend='-DI')\n",
    "\n",
    "\n",
    "fplt.show()"
   ]
  },
  {
   "cell_type": "code",
   "execution_count": null,
   "metadata": {},
   "outputs": [],
   "source": []
  }
 ],
 "metadata": {
  "kernelspec": {
   "display_name": "Python 3",
   "language": "python",
   "name": "python3"
  },
  "language_info": {
   "codemirror_mode": {
    "name": "ipython",
    "version": 3
   },
   "file_extension": ".py",
   "mimetype": "text/x-python",
   "name": "python",
   "nbconvert_exporter": "python",
   "pygments_lexer": "ipython3",
   "version": "3.7.6"
  }
 },
 "nbformat": 4,
 "nbformat_minor": 4
}
